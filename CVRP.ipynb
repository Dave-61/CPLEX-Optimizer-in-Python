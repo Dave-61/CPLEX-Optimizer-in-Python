{
 "cells": [
  {
   "cell_type": "markdown",
   "metadata": {},
   "source": [
    "### Capacitated Vehicle Routing Problem (CVRP): Finding the optimal solution using IBM CPLEX"
   ]
  },
  {
   "cell_type": "markdown",
   "metadata": {},
   "source": [
    "<img src=\"http://neo.lcc.uma.es/dynamic/images/vrp.png\" width=\"400\" />\n",
    "\n",
    "- $n$ is the number of clients\n",
    "- $N$ is the set of clients, with $N=\\{1,2,...,n\\}$\n",
    "- $V$ is the set of vertices (or nodes), with $V=\\{0\\}\\cup N$\n",
    "- $A$ is the set of arcs, with $A=\\{(i,j)\\in V^2 : i\\neq j\\}$\n",
    "- $c_{ij}$ is the cost of travel over arc $(i,j)\\in A$\n",
    "- $Q$ is the vehicle capacity\n",
    "- $q_i$ is the amount that has to be delivered to customer $i\\in N$\n",
    "\n",
    "Then, the formulation is the following\n",
    "\n",
    "$$\\begin{align}\\\n",
    "\\min \\quad & \\sum_{i,j\\in A} c_{ij} x_{ij} \\\\\n",
    "\\text{s.t.} \\quad & \\sum_{j\\in V , \\ j\\neq i} x_{ij} = 1  && i \\in N \\\\\n",
    "& \\sum_{i\\in V , \\ i\\neq j} x_{ij} = 1 && j \\in N \\\\\n",
    "& \\text{if} \\ x_{ij}=1 \\ \\Rightarrow \\ u_i + q_j = u_j && i,j \\in A : j\\neq 0, i\\neq 0 \\ * \\\\\n",
    "& q_i \\leq u_i \\leq Q && i \\in N \\\\\n",
    "& x_{ij} \\in \\{0,1\\} && i,j \\in A\\\n",
    "\\end{align}$$"
   ]
  },
  {
   "cell_type": "markdown",
   "metadata": {},
   "source": [
    "$*$ $u_i$ is the cumulative demand up to point $i$: if arc $(i,j)$ is active $\\Rightarrow$ the cumulative demand for the corresponding route up to point $i$ plus the demand at point $j$ must be equal to the cumulative demand up to point $j$."
   ]
  },
  {
   "cell_type": "code",
   "execution_count": 1,
   "metadata": {},
   "outputs": [],
   "source": [
    "import numpy as np"
   ]
  },
  {
   "cell_type": "code",
   "execution_count": 2,
   "metadata": {},
   "outputs": [],
   "source": [
    "rnd = np.random\n",
    "rnd.seed(0)"
   ]
  },
  {
   "cell_type": "code",
   "execution_count": 3,
   "metadata": {},
   "outputs": [
    {
     "name": "stdout",
     "output_type": "stream",
     "text": [
      "N = [1, 2, 3, 4, 5, 6, 7, 8, 9, 10] \n",
      "V = [0, 1, 2, 3, 4, 5, 6, 7, 8, 9, 10] \n",
      "q = {1: 6, 2: 1, 3: 4, 4: 4, 5: 8, 6: 4, 7: 6, 8: 3, 9: 5, 10: 8}\n"
     ]
    }
   ],
   "source": [
    "n = 10\n",
    "Q = 20\n",
    "N = [i for i in range(1, n+1)]\n",
    "V = [0] + N\n",
    "q = {i: rnd.randint(1, 10) for i in N}\n",
    "\n",
    "print('N = {} \\nV = {} \\nq = {}'.format(N, V, q))"
   ]
  },
  {
   "cell_type": "code",
   "execution_count": 4,
   "metadata": {},
   "outputs": [],
   "source": [
    "loc_x = rnd.rand(len(V))*200\n",
    "loc_y = rnd.rand(len(V))*100"
   ]
  },
  {
   "cell_type": "code",
   "execution_count": 5,
   "metadata": {},
   "outputs": [],
   "source": [
    "import matplotlib.pyplot as plt"
   ]
  },
  {
   "cell_type": "code",
   "execution_count": 6,
   "metadata": {
    "scrolled": false
   },
   "outputs": [
    {
     "data": {
      "text/plain": [
       "Text(180.35460015641596, 77.81567509498505, 'Depot')"
      ]
     },
     "execution_count": 6,
     "metadata": {},
     "output_type": "execute_result"
    },
    {
     "data": {
      "image/png": "[encoded data removed]",
      "text/plain": [
       "<Figure size 1008x504 with 1 Axes>"
      ]
     },
     "metadata": {
      "needs_background": "light"
     },
     "output_type": "display_data"
    }
   ],
   "source": [
    "fig, ax = plt.subplots(1, 1, figsize=(14, 7))\n",
    "\n",
    "# clients\n",
    "ax.scatter(loc_x[1:], loc_y[1:], c='b')\n",
    "for i in N:\n",
    "     ax.annotate('$q_{}$={}'.format(i, q[i]), (loc_x[i]+2, loc_y[i]+2))\n",
    "\n",
    "# depot\n",
    "ax.plot(loc_x[0], loc_y[0], c='r', marker='s')\n",
    "ax.annotate('Depot', (loc_x[0]+2, loc_y[0]))"
   ]
  },
  {
   "cell_type": "code",
   "execution_count": 7,
   "metadata": {},
   "outputs": [],
   "source": [
    "# arcs\n",
    "A = [(i, j) for i in V for j in V if i != j]\n",
    "\n",
    "# cost: Euclidean distance between nodes\n",
    "c = {(i, j): np.hypot(loc_x[i]-loc_x[j], loc_y[i]-loc_y[j]) for i, j in A}\n",
    "# np.hypot: Given the “legs” of a right triangle, return its hypotenuse. Equivalent to sqrt(x1**2 + x2**2)."
   ]
  },
  {
   "cell_type": "code",
   "execution_count": 8,
   "metadata": {},
   "outputs": [],
   "source": [
    "from docplex.mp.model import Model\n",
    "\n",
    "mdl = Model('CVRP')"
   ]
  },
  {
   "cell_type": "code",
   "execution_count": 9,
   "metadata": {},
   "outputs": [
    {
     "data": {
      "text/plain": [
       "{(0, 1): docplex.mp.Var(type=B,name='x_0_1'),\n",
       " (0, 2): docplex.mp.Var(type=B,name='x_0_2'),\n",
       " (0, 3): docplex.mp.Var(type=B,name='x_0_3')}"
      ]
     },
     "execution_count": 9,
     "metadata": {},
     "output_type": "execute_result"
    }
   ],
   "source": [
    "x = mdl.binary_var_dict(A, name='x')\n",
    "\n",
    "# display part of x\n",
    "{(i,j): x[i,j] for i,j in A[0:3]}"
   ]
  },
  {
   "cell_type": "code",
   "execution_count": 10,
   "metadata": {},
   "outputs": [
    {
     "data": {
      "text/plain": [
       "{1: docplex.mp.Var(type=I,name='u_1',ub=20),\n",
       " 2: docplex.mp.Var(type=I,name='u_2',ub=20),\n",
       " 3: docplex.mp.Var(type=I,name='u_3',ub=20)}"
      ]
     },
     "execution_count": 10,
     "metadata": {},
     "output_type": "execute_result"
    }
   ],
   "source": [
    "u = mdl.integer_var_dict(N, ub=Q, name='u')\n",
    "\n",
    "# dispaly part of u\n",
    "{k: u[k] for k in N[0:3]}"
   ]
  },
  {
   "cell_type": "markdown",
   "metadata": {},
   "source": [
    "$u_i$ can be set as `continuous_var_ dict` too, but then some of its values in the optimal solution will not make sense!"
   ]
  },
  {
   "cell_type": "code",
   "execution_count": 11,
   "metadata": {
    "scrolled": false
   },
   "outputs": [
    {
     "name": "stdout",
     "output_type": "stream",
     "text": [
      "Version identifier: 12.10.0.0 | 2019-11-26 | 843d4de2ae\n",
      "CPXPARAM_Read_DataCheck                          1\n",
      "CPXPARAM_RandomSeed                              201903125\n",
      "CPXPARAM_TimeLimit                               15\n",
      "Found incumbent of value 1784.255531 after 0.00 sec. (0.01 ticks)\n",
      "Tried aggregator 2 times.\n",
      "MIP Presolve eliminated 10 rows and 0 columns.\n",
      "MIP Presolve modified 45 coefficients.\n",
      "Aggregator did 45 substitutions.\n",
      "Reduced MIP has 65 rows, 165 columns, and 335 nonzeros.\n",
      "Reduced MIP has 110 binaries, 10 generals, 0 SOSs, and 90 indicators.\n",
      "Presolve time = 0.00 sec. (0.36 ticks)\n",
      "Probing time = 0.00 sec. (0.32 ticks)\n",
      "Tried aggregator 1 time.\n",
      "Detecting symmetries...\n",
      "Reduced MIP has 65 rows, 165 columns, and 335 nonzeros.\n",
      "Reduced MIP has 110 binaries, 55 generals, 0 SOSs, and 90 indicators.\n",
      "Presolve time = 0.02 sec. (0.24 ticks)\n",
      "Probing time = 0.00 sec. (0.31 ticks)\n",
      "Clique table members: 65.\n",
      "MIP emphasis: balance optimality and feasibility.\n",
      "MIP search method: dynamic search.\n",
      "Parallel mode: deterministic, using up to 8 threads.\n",
      "Root relaxation solution time = 0.00 sec. (0.13 ticks)\n",
      "\n",
      "        Nodes                                         Cuts/\n",
      "   Node  Left     Objective  IInf  Best Integer    Best Bound    ItCnt     Gap\n",
      "\n",
      "*     0+    0                         1784.2555        0.0000           100.00%\n",
      "      0     0      456.3031    10     1784.2555      456.3031       15   74.43%\n",
      "      0     0      477.8467    10     1784.2555      Cuts: 23       26   73.22%\n",
      "      0     0      477.8467    10     1784.2555      Cuts: 18       38   73.22%\n",
      "      0     0      477.8467    10     1784.2555       Cuts: 3       39   73.22%\n",
      "      0     0      477.8467    10     1784.2555      Cuts: 31       43   73.22%\n",
      "*     0+    0                         1657.7846      477.8467            71.18%\n",
      "*     0+    0                          770.3893      477.8467            37.97%\n",
      "Detecting symmetries...\n",
      "      0     2      477.8467     9      770.3893      477.8467       43   37.97%\n",
      "Elapsed time = 0.08 sec. (6.38 ticks, tree = 0.02 MB, solutions = 3)\n",
      "*   206    82      integral     0      726.2486      477.8467      450   34.20%\n",
      "\n",
      "Performing restart 1\n",
      "\n",
      "Repeating presolve.\n",
      "Tried aggregator 1 time.\n",
      "Reduced MIP has 65 rows, 165 columns, and 335 nonzeros.\n",
      "Reduced MIP has 110 binaries, 55 generals, 0 SOSs, and 90 indicators.\n",
      "Presolve time = 0.02 sec. (0.17 ticks)\n",
      "Tried aggregator 1 time.\n",
      "Reduced MIP has 65 rows, 165 columns, and 335 nonzeros.\n",
      "Reduced MIP has 110 binaries, 55 generals, 0 SOSs, and 90 indicators.\n",
      "Presolve time = 0.00 sec. (0.25 ticks)\n",
      "Represolve time = 0.02 sec. (1.55 ticks)\n",
      "   6905     0      484.0331    64      726.2486      Cuts: 23    42246   17.34%\n",
      "   6905     0      490.4492    64      726.2486       Cuts: 8    42253   17.34%\n",
      "   6905     0      491.3074    64      726.2486      Cuts: 11    42260   17.34%\n",
      "   6905     0      500.2467    64      726.2486      Cuts: 15    42266   17.34%\n",
      "   6905     0      503.0517    64      726.2486      Cuts: 21    42271   17.34%\n",
      "   6905     0      503.0517    64      726.2486      Cuts: 19    42284   17.34%\n",
      "   6905     0      503.0517    64      726.2486   Impl Bds: 1    42293   17.34%\n",
      "   6905     0      503.0517    64      726.2486      Cuts: 25    42305   17.34%\n",
      "  11069   325      674.9685    63      726.2486      624.9452    75143   13.95%\n",
      "\n",
      "Clique cuts applied:  3\n",
      "Cover cuts applied:  104\n",
      "Implied bound cuts applied:  142\n",
      "Zero-half cuts applied:  1\n",
      "Gomory fractional cuts applied:  10\n",
      "\n",
      "Root node processing (before b&c):\n",
      "  Real time             =    0.08 sec. (6.35 ticks)\n",
      "Parallel b&c, 8 threads:\n",
      "  Real time             =    0.72 sec. (265.37 ticks)\n",
      "  Sync time (average)   =    0.15 sec.\n",
      "  Wait time (average)   =    0.00 sec.\n",
      "                          ------------\n",
      "Total (root+branch&cut) =    0.80 sec. (271.71 ticks)\n"
     ]
    }
   ],
   "source": [
    "mdl.minimize(mdl.sum(c[i, j]*x[i, j] for i, j in A))\n",
    "\n",
    "mdl.add_constraints(mdl.sum(x[i, j] for j in V if j != i) == 1 for i in N)\n",
    "mdl.add_constraints(mdl.sum(x[i, j] for i in V if i != j) == 1 for j in N)\n",
    "mdl.add_indicator_constraints(mdl.indicator_constraint(x[i, j], u[i]+q[j] == u[j]) for i, j in A if i!=0 and j!=0)\n",
    "mdl.add_constraints(u[i] >= q[i] for i in N)\n",
    "\n",
    "mdl.parameters.timelimit = 15  # Sets the maximum time, in seconds, for a call to an optimizer\n",
    "\n",
    "solution = mdl.solve(log_output=True)"
   ]
  },
  {
   "cell_type": "code",
   "execution_count": 12,
   "metadata": {},
   "outputs": [
    {
     "name": "stdout",
     "output_type": "stream",
     "text": [
      "solution for: CVRP\n",
      "objective: 726.249\n",
      "x_0_1=1\n",
      "x_0_2=1\n",
      "x_0_3=1\n",
      "x_1_6=1\n",
      "x_2_9=1\n",
      "x_3_5=1\n",
      "x_4_0=1\n",
      "x_5_0=1\n",
      "x_6_10=1\n",
      "x_7_8=1\n",
      "x_8_4=1\n",
      "x_9_7=1\n",
      "x_10_0=1\n",
      "u_1=6\n",
      "u_2=1\n",
      "u_3=4\n",
      "u_4=19\n",
      "u_5=12\n",
      "u_6=10\n",
      "u_7=12\n",
      "u_8=15\n",
      "u_9=6\n",
      "u_10=18\n",
      "\n"
     ]
    }
   ],
   "source": [
    "print(solution)"
   ]
  },
  {
   "cell_type": "code",
   "execution_count": 13,
   "metadata": {},
   "outputs": [
    {
     "data": {
      "text/plain": [
       "<JobSolveStatus.OPTIMAL_SOLUTION: 2>"
      ]
     },
     "execution_count": 13,
     "metadata": {},
     "output_type": "execute_result"
    }
   ],
   "source": [
    "solution.solve_status"
   ]
  },
  {
   "cell_type": "code",
   "execution_count": 14,
   "metadata": {},
   "outputs": [],
   "source": [
    "active_arcs = [a for a in A if x[a].solution_value == 1]"
   ]
  },
  {
   "cell_type": "code",
   "execution_count": 15,
   "metadata": {
    "scrolled": false
   },
   "outputs": [
    {
     "data": {
      "image/png": "[encoded data removed]",
      "text/plain": [
       "<Figure size 1008x504 with 1 Axes>"
      ]
     },
     "execution_count": 15,
     "metadata": {},
     "output_type": "execute_result"
    }
   ],
   "source": [
    "# update fig with optimal routes\n",
    "\n",
    "from matplotlib.patches import ConnectionPatch\n",
    "    \n",
    "for A, B in active_arcs:\n",
    "    xyA = (loc_x[A], loc_y[A])\n",
    "    xyB = (loc_x[B], loc_y[B])\n",
    "    coordsA = \"data\"\n",
    "    coordsB = \"data\"\n",
    "    con = ConnectionPatch(xyA, xyB, coordsA, coordsB,\n",
    "                          arrowstyle=\"-|>\", shrinkA=7, shrinkB=7,\n",
    "                          mutation_scale=15, color=\"limegreen\", fc=\"w\")    \n",
    "    ax.add_artist(con)\n",
    "\n",
    "fig"
   ]
  }
 ],
 "metadata": {
  "kernelspec": {
   "display_name": "Python 3",
   "language": "python",
   "name": "python3"
  },
  "language_info": {
   "codemirror_mode": {
    "name": "ipython",
    "version": 3
   },
   "file_extension": ".py",
   "mimetype": "text/x-python",
   "name": "python",
   "nbconvert_exporter": "python",
   "pygments_lexer": "ipython3",
   "version": "3.7.4"
  }
 },
 "nbformat": 4,
 "nbformat_minor": 2
}
